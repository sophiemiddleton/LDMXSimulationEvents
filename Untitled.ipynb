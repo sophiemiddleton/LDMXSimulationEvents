{
 "cells": [
  {
   "cell_type": "code",
   "execution_count": null,
   "metadata": {},
   "outputs": [],
   "source": [
    "import uproot\n",
    "import matplotlib.pyplot as plt\n",
    "import pandas\n",
    "\n",
    "file = uproot.open(\"unweighted_events.root\")\n",
    "event = file[\"LHEF;1\"]\n",
    "df = event.pandas.df(flatten=False)\n",
    "\n",
    "fig, ax = plt.subplots(1,1)\n",
    "n, bins, patches = ax.hist(df[\"Event.Weight\"],\n",
    "                           bins=100, \n",
    "                           range=(-1,1), \n",
    "                           label=\"event\")\n",
    "\n",
    "ax.set_ylabel('N')\n",
    "ax.set_xlabel('Mom Px [MeV/c]')\n",
    "fig.show()\n",
    "\n"
   ]
  },
  {
   "cell_type": "code",
   "execution_count": null,
   "metadata": {},
   "outputs": [],
   "source": [
    "\n"
   ]
  },
  {
   "cell_type": "code",
   "execution_count": null,
   "metadata": {},
   "outputs": [],
   "source": []
  }
 ],
 "metadata": {
  "kernelspec": {
   "display_name": "Python 3",
   "language": "python",
   "name": "python3"
  },
  "language_info": {
   "codemirror_mode": {
    "name": "ipython",
    "version": 3
   },
   "file_extension": ".py",
   "mimetype": "text/x-python",
   "name": "python",
   "nbconvert_exporter": "python",
   "pygments_lexer": "ipython3",
   "version": "3.7.4"
  }
 },
 "nbformat": 4,
 "nbformat_minor": 2
}
